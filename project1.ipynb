{
 "cells": [
  {
   "cell_type": "code",
   "execution_count": 1,
   "id": "1bfb748c",
   "metadata": {},
   "outputs": [
    {
     "name": "stdout",
     "output_type": "stream",
     "text": [
      "enter name:mohit\n",
      "available seats are\n",
      "    normal-350each\n",
      "    recliner-500each\n",
      "enter the type of seats:normal\n",
      "enter the number of seats:2\n",
      "2\n",
      "do want to add a combo of rs 1000?yes\n",
      "1700\n",
      "do you want to add more seats? no\n",
      "~~~~~~~~~~~~~~~~~~~~~~~~~~~~~~\n",
      "total bill is 1700\n",
      "~~~~~~~~~~~~~~~~~~~~~~~~~~~~~~\n",
      "next person?: no\n",
      "tahnks for watching movi\n"
     ]
    }
   ],
   "source": [
    "number_of_seats_=1000\n",
    "\n",
    "normal=900\n",
    "recliner=100\n",
    "nprice=350\n",
    "rprice=500\n",
    "comboprice=1000\n",
    "\n",
    "while True:\n",
    "    name=input(\"enter name:\")\n",
    "    \n",
    "    bill=0\n",
    "    \n",
    "    \n",
    "    print(\"\"\"available seats are\n",
    "    normal-350each\n",
    "    recliner-500each\"\"\")\n",
    "    \n",
    "    while True:\n",
    "        seat_type=input(\"enter the type of seats:\").lower()\n",
    "\n",
    "\n",
    "\n",
    "        if seat_type==\"normal\":\n",
    "            seats=int(input(\"enter the number of seats:\"))\n",
    "            normal -=seats\n",
    "            print(seats)\n",
    "            \n",
    "\n",
    "            if seats > normal:\n",
    "                print(\"housefull\")\n",
    "            else:\n",
    "                bill+=nprice*seats\n",
    "                combo=input(\"do want to add a combo of rs 1000?\")\n",
    "\n",
    "                if combo in [\"yes\",\"Yes\",\"YES\"]:\n",
    "                    bill+=comboprice\n",
    "                print(bill)    \n",
    "\n",
    "\n",
    "        elif seat_type==\"recliner\":\n",
    "            seats=int(input(\"enter the number of seats:\"))\n",
    "            recliner-=seats\n",
    "            print(seats)\n",
    "\n",
    "            if seats>recliner:\n",
    "                print(\"housefull\")\n",
    "            else:\n",
    "                bill+=rprice*seats\n",
    "                combo=input(\"do want to add a combo of rs 1000?\")\n",
    "\n",
    "\n",
    "                if combo in [\"yes\",\"Yes\",\"YES\"]:\n",
    "                    bill+=comboprice\n",
    "    \n",
    "        choice = input(\"do you want to add more seats? \")\n",
    "        if choice == \"no\":\n",
    "            break\n",
    "    print(\"~\"*30)        \n",
    "    print(\"total bill is\",bill)\n",
    "    print(\"~\"*30)\n",
    "\n",
    "        \n",
    "    repeat = input(\"next person?: \")\n",
    "    if repeat in [\"no\",\"No\",\"NO\"]:\n",
    "        break\n",
    "             \n",
    "                \n",
    "                \n",
    "       \n",
    "        \n",
    "        \n",
    "print(\"tahnks for watching movi\")\n",
    "    \n",
    "        "
   ]
  },
  {
   "cell_type": "code",
   "execution_count": null,
   "id": "bc065e1e",
   "metadata": {},
   "outputs": [],
   "source": [
    "\n"
   ]
  },
  {
   "cell_type": "code",
   "execution_count": null,
   "id": "e1ba6686",
   "metadata": {},
   "outputs": [],
   "source": [
    "\n"
   ]
  },
  {
   "cell_type": "code",
   "execution_count": null,
   "id": "814e6720",
   "metadata": {},
   "outputs": [],
   "source": []
  },
  {
   "cell_type": "code",
   "execution_count": null,
   "id": "157981f3",
   "metadata": {},
   "outputs": [],
   "source": []
  }
 ],
 "metadata": {
  "kernelspec": {
   "display_name": "Python 3 (ipykernel)",
   "language": "python",
   "name": "python3"
  },
  "language_info": {
   "codemirror_mode": {
    "name": "ipython",
    "version": 3
   },
   "file_extension": ".py",
   "mimetype": "text/x-python",
   "name": "python",
   "nbconvert_exporter": "python",
   "pygments_lexer": "ipython3",
   "version": "3.11.3"
  }
 },
 "nbformat": 4,
 "nbformat_minor": 5
}
